{
 "cells": [
  {
   "cell_type": "markdown",
   "metadata": {
    "vscode": {
     "languageId": "plaintext"
    }
   },
   "source": [
    "##### Import BINARY MAPS PROCESSING"
   ]
  },
  {
   "cell_type": "code",
   "execution_count": 1,
   "metadata": {},
   "outputs": [
    {
     "name": "stderr",
     "output_type": "stream",
     "text": [
      "/home/joseph/anaconda3/envs/joseph_tf/lib/python3.9/site-packages/tqdm/auto.py:21: TqdmWarning: IProgress not found. Please update jupyter and ipywidgets. See https://ipywidgets.readthedocs.io/en/stable/user_install.html\n",
      "  from .autonotebook import tqdm as notebook_tqdm\n"
     ]
    }
   ],
   "source": [
    "import glob\n",
    "import cv2\n",
    "import numpy as np\n",
    "import sunpy.map\n",
    "from astropy.io import fits \n",
    "\n",
    "import sunpy.visualization.colormaps as cm\n",
    "from sunpy.map.header_helper import make_heliographic_header"
   ]
  },
  {
   "cell_type": "code",
   "execution_count": null,
   "metadata": {},
   "outputs": [],
   "source": [
    "def Image_processing(path, binary_path):\n",
    "    \"\"\"\n",
    "    Image Processing of SDO/AIA 193 into Standardized Three Channel EUV MAP and BINARY MAP.\n",
    "    Saved as FIT Files.\n",
    "    Parameters:\n",
    "    ----------\n",
    "    path : str\n",
    "        The root directory or file path where the SDO/AIA 193 FULL disc fit Maps are located.\n",
    "        e.g \"/home/SDO/AIA_1200UT/*.*\"\n",
    "    binary_path : str\n",
    "        The root directory or file path where the BINARY MAP should be stored.\n",
    "        e.g \"/home/Binary\"\n",
    "        \n",
    "    Returns:\n",
    "    -------\n",
    "    None.\n",
    "    \n",
    "    Examples:\n",
    "    ---------\n",
    "    >>> Image_processing(path=\"/home/SDO/AIA_1200UT/*.*\",\n",
    "                         binary_path=\"/home/Binary\")\n",
    "    \"\"\"\n",
    "\n",
    "    filename = sorted(glob.glob(path))\n",
    "    image_index = 0\n",
    "    for file in filename:\n",
    "        image_index +=1\n",
    "        f_name = file[-26:-15]\n",
    "        aia_map = sunpy.map.Map(file)\n",
    "        shape = (1440, 2880)\n",
    "        carr_header = make_heliographic_header(aia_map.date,\n",
    "                                               aia_map.observer_coordinate,\n",
    "                                               shape, frame='stonyhurst',)\n",
    "        outmap = aia_map.reproject_to(carr_header)\n",
    "        stonyhurst_reprojection = outmap.data\n",
    "        flip = stonyhurst_reprojection[::-1,:]\n",
    "    \n",
    "        nan_mask = np.isnan(flip)\n",
    "        \n",
    "        center_row = flip.shape[0] // 2\n",
    "    \n",
    "        center_non_nan_cols = np.where(~nan_mask[center_row])[0]\n",
    "        \n",
    "        if len(center_non_nan_cols) > 0:\n",
    "            start_col = center_non_nan_cols[0]\n",
    "            end_col = center_non_nan_cols[-1] + 1\n",
    "        \n",
    "            # Find the first and last non-NaN in the columns of the bounding box\n",
    "            rows_with_nan_in_box = np.any(~nan_mask[:, start_col:end_col], axis=1)\n",
    "            start_row = np.argmax(rows_with_nan_in_box)\n",
    "            end_row = len(rows_with_nan_in_box) - np.argmax(rows_with_nan_in_box[::-1])\n",
    "        \n",
    "            cropped_image = flip[start_row:end_row, start_col:end_col]\n",
    "        else:\n",
    "            cropped_image = np.array([])  \n",
    "        \n",
    "        nan_mask = np.isnan(cropped_image)\n",
    "        cropped_image[nan_mask] = np.interp(np.flatnonzero(nan_mask), np.flatnonzero(~nan_mask), cropped_image[~nan_mask])\n",
    "    \n",
    "        new_shape = 256\n",
    "        if cropped_image.shape[0] > 0:\n",
    "            resized_image = cv2.resize(cropped_image, (new_shape, new_shape), interpolation=cv2.INTER_LINEAR)\n",
    "        else:\n",
    "            resized_image = np.full((new_shape, new_shape), np.nan)\n",
    "        \n",
    "        ### Binary Map\n",
    "        resized_image_copy = resized_image.copy()\n",
    "        heinemann_thresh = 0.29* np.median(resized_image_copy) + 11.53\n",
    "        heinemann_binary = resized_image_copy > heinemann_thresh\n",
    "        heinemann_binary_p = heinemann_binary < 1\n",
    "\n",
    "        binary_int = heinemann_binary_p.astype(int)\n",
    "        hdu_binary = fits.PrimaryHDU(binary_int)\n",
    "        hdul_binary_fit = fits.HDUList([hdu_binary])\n",
    "\n",
    "        # # # Write the FITS file to disk\n",
    "        hdul_binary_fit.writeto(f\"{binary_path}/{f_name}\", overwrite=True)\n",
    "        print(f\"{f_name}: *****************{image_index /len(filename)*100:.2f}%\")\n"
   ]
  },
  {
   "cell_type": "code",
   "execution_count": 2,
   "metadata": {},
   "outputs": [],
   "source": [
    "path = \"/home/joseph/DL/DATASET/AIA_1200UT/*.*\"\n",
    "binary_path = \"/home/joseph/DL/DATASET/binary\"\n",
    "Image_processing(path, binary_path)"
   ]
  },
  {
   "cell_type": "code",
   "execution_count": null,
   "metadata": {},
   "outputs": [],
   "source": []
  }
 ],
 "metadata": {
  "kernelspec": {
   "display_name": "joseph_tf",
   "language": "python",
   "name": "python3"
  },
  "language_info": {
   "codemirror_mode": {
    "name": "ipython",
    "version": 3
   },
   "file_extension": ".py",
   "mimetype": "text/x-python",
   "name": "python",
   "nbconvert_exporter": "python",
   "pygments_lexer": "ipython3",
   "version": "3.9.18"
  }
 },
 "nbformat": 4,
 "nbformat_minor": 2
}
