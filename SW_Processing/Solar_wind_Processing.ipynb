{
 "cells": [
  {
   "cell_type": "code",
   "execution_count": 1,
   "id": "daeb19fb-5244-40c4-b7d6-b46c35c91275",
   "metadata": {},
   "outputs": [],
   "source": [
    "import pandas as pd\n",
    "import matplotlib.pyplot as plt\n",
    "import numpy as np\n",
    "import datetime\n",
    "from astropy.io import ascii"
   ]
  },
  {
   "cell_type": "markdown",
   "id": "db05db54-7341-40ae-94a1-bcd65d18ebb8",
   "metadata": {},
   "source": [
    "### Load ICME LIST"
   ]
  },
  {
   "cell_type": "code",
   "execution_count": 2,
   "id": "bb3fac02-f3e4-4693-b409-618fad3c81af",
   "metadata": {},
   "outputs": [
    {
     "data": {
      "text/html": [
       "<div>\n",
       "<style scoped>\n",
       "    .dataframe tbody tr th:only-of-type {\n",
       "        vertical-align: middle;\n",
       "    }\n",
       "\n",
       "    .dataframe tbody tr th {\n",
       "        vertical-align: top;\n",
       "    }\n",
       "\n",
       "    .dataframe thead th {\n",
       "        text-align: right;\n",
       "    }\n",
       "</style>\n",
       "<table border=\"1\" class=\"dataframe\">\n",
       "  <thead>\n",
       "    <tr style=\"text-align: right;\">\n",
       "      <th></th>\n",
       "      <th>Start_time</th>\n",
       "      <th>End_time</th>\n",
       "    </tr>\n",
       "  </thead>\n",
       "  <tbody>\n",
       "    <tr>\n",
       "      <th>0</th>\n",
       "      <td>2010-01-01</td>\n",
       "      <td>2010-01-03</td>\n",
       "    </tr>\n",
       "    <tr>\n",
       "      <th>1</th>\n",
       "      <td>2010-02-07</td>\n",
       "      <td>2010-02-08</td>\n",
       "    </tr>\n",
       "    <tr>\n",
       "      <th>2</th>\n",
       "      <td>2010-02-11</td>\n",
       "      <td>2010-02-12</td>\n",
       "    </tr>\n",
       "    <tr>\n",
       "      <th>3</th>\n",
       "      <td>2010-02-19</td>\n",
       "      <td>2010-02-20</td>\n",
       "    </tr>\n",
       "    <tr>\n",
       "      <th>4</th>\n",
       "      <td>2010-02-21</td>\n",
       "      <td>2010-02-22</td>\n",
       "    </tr>\n",
       "  </tbody>\n",
       "</table>\n",
       "</div>"
      ],
      "text/plain": [
       "  Start_time   End_time\n",
       "0 2010-01-01 2010-01-03\n",
       "1 2010-02-07 2010-02-08\n",
       "2 2010-02-11 2010-02-12\n",
       "3 2010-02-19 2010-02-20\n",
       "4 2010-02-21 2010-02-22"
      ]
     },
     "execution_count": 2,
     "metadata": {},
     "output_type": "execute_result"
    }
   ],
   "source": [
    "icme_list = pd.read_excel(\"Original_Full_Richardson_cane_list(2010-2023).xlsx\")\n",
    "icme_list['Start_time'] = pd.to_datetime(icme_list['Start_time'].str.split(' ').str[0], format='%Y/%m/%d')\n",
    "icme_list['End_time'] = pd.to_datetime(icme_list['End_time'].str.split(' ').str[0], format='%Y/%m/%d')\n",
    "icme_list.head()"
   ]
  },
  {
   "cell_type": "code",
   "execution_count": 3,
   "id": "8fe6f2aa-832a-40ba-aadb-1942635b2c7a",
   "metadata": {},
   "outputs": [],
   "source": [
    "start_time_list = list(icme_list['Start_time'])\n",
    "end_time_list = list(icme_list['End_time'])\n",
    "whole_list = []\n",
    "for i in range(len(start_time_list)):\n",
    "    new_list = pd.date_range(start_time_list [i], end_time_list[i],) #freq='h'\n",
    "    whole_list.append(new_list)\n",
    "combined_list = [date for sublist in whole_list for date in sublist]"
   ]
  },
  {
   "cell_type": "markdown",
   "id": "7476c15a-c651-4fdb-a11e-c8d3b6ba48bf",
   "metadata": {},
   "source": [
    "### LOAD THE OMINWEB DATA"
   ]
  },
  {
   "cell_type": "markdown",
   "id": "414550dd-fb45-4586-90c9-9f37b0182b4e",
   "metadata": {},
   "source": [
    "` Listing for omni2_daily data from 20100101 to 20231231`\n",
    "`Selected parameters:`\n",
    " * `Scalar BnT`\n",
    " * `SW Plasma Temperature, K`\n",
    " * `SW Proton Density, N/cm^3`\n",
    " * `SW Plasma Speed, km/s`"
   ]
  },
  {
   "cell_type": "code",
   "execution_count": 4,
   "id": "04672837-6fb5-4e35-ba6f-8d2ce977334d",
   "metadata": {},
   "outputs": [],
   "source": [
    "Ommidata = ascii.read(\"omnidataset.txt\",\n",
    "                      names =[\"Year\",\"DOY\", \"HR\", \"B(nT)\", \"T(k)\", \"n(cm^-3)\", \"V(Km/s)\" ]  )\n"
   ]
  },
  {
   "cell_type": "code",
   "execution_count": 5,
   "id": "7e1379de-ebaf-4d0f-abba-b4b6b0bbad32",
   "metadata": {},
   "outputs": [],
   "source": [
    "ascii.write(Ommidata, \"Omniwind_csv.csv\", format='csv', overwrite=True)  "
   ]
  },
  {
   "cell_type": "code",
   "execution_count": 6,
   "id": "f03975e2-3e61-45b9-90d1-6c6ec84696e2",
   "metadata": {},
   "outputs": [],
   "source": [
    "Solar_wind = pd.read_csv(\"Omniwind_csv.csv\")"
   ]
  },
  {
   "cell_type": "code",
   "execution_count": 7,
   "id": "7de311c0-bf42-4633-b427-b785d94f016d",
   "metadata": {},
   "outputs": [
    {
     "data": {
      "text/plain": [
       "Year         0\n",
       "DOY          0\n",
       "HR           0\n",
       "B(nT)       40\n",
       "T(k)         0\n",
       "n(cm^-3)     3\n",
       "V(Km/s)      0\n",
       "dtype: int64"
      ]
     },
     "execution_count": 7,
     "metadata": {},
     "output_type": "execute_result"
    }
   ],
   "source": [
    "(Solar_wind== 999.9).sum()"
   ]
  },
  {
   "cell_type": "code",
   "execution_count": 8,
   "id": "af842db5-5727-478c-86fa-46e05c9b98b5",
   "metadata": {},
   "outputs": [
    {
     "data": {
      "text/html": [
       "<div>\n",
       "<style scoped>\n",
       "    .dataframe tbody tr th:only-of-type {\n",
       "        vertical-align: middle;\n",
       "    }\n",
       "\n",
       "    .dataframe tbody tr th {\n",
       "        vertical-align: top;\n",
       "    }\n",
       "\n",
       "    .dataframe thead th {\n",
       "        text-align: right;\n",
       "    }\n",
       "</style>\n",
       "<table border=\"1\" class=\"dataframe\">\n",
       "  <thead>\n",
       "    <tr style=\"text-align: right;\">\n",
       "      <th></th>\n",
       "      <th>DATE</th>\n",
       "      <th>B(nT)</th>\n",
       "      <th>T(10^3 k)</th>\n",
       "      <th>N(cm^3)</th>\n",
       "      <th>V(Km/s)</th>\n",
       "    </tr>\n",
       "  </thead>\n",
       "  <tbody>\n",
       "    <tr>\n",
       "      <th>0</th>\n",
       "      <td>2010-01-01</td>\n",
       "      <td>3.8</td>\n",
       "      <td>25.962</td>\n",
       "      <td>6.0</td>\n",
       "      <td>288.0</td>\n",
       "    </tr>\n",
       "    <tr>\n",
       "      <th>1</th>\n",
       "      <td>2010-01-02</td>\n",
       "      <td>6.8</td>\n",
       "      <td>19.363</td>\n",
       "      <td>7.9</td>\n",
       "      <td>290.0</td>\n",
       "    </tr>\n",
       "    <tr>\n",
       "      <th>2</th>\n",
       "      <td>2010-01-03</td>\n",
       "      <td>5.9</td>\n",
       "      <td>44.011</td>\n",
       "      <td>11.2</td>\n",
       "      <td>286.0</td>\n",
       "    </tr>\n",
       "    <tr>\n",
       "      <th>3</th>\n",
       "      <td>2010-01-04</td>\n",
       "      <td>5.8</td>\n",
       "      <td>59.164</td>\n",
       "      <td>7.6</td>\n",
       "      <td>288.0</td>\n",
       "    </tr>\n",
       "    <tr>\n",
       "      <th>4</th>\n",
       "      <td>2010-01-05</td>\n",
       "      <td>4.3</td>\n",
       "      <td>27.738</td>\n",
       "      <td>6.3</td>\n",
       "      <td>293.0</td>\n",
       "    </tr>\n",
       "  </tbody>\n",
       "</table>\n",
       "</div>"
      ],
      "text/plain": [
       "        DATE  B(nT)  T(10^3 k)  N(cm^3)  V(Km/s)\n",
       "0 2010-01-01    3.8     25.962      6.0    288.0\n",
       "1 2010-01-02    6.8     19.363      7.9    290.0\n",
       "2 2010-01-03    5.9     44.011     11.2    286.0\n",
       "3 2010-01-04    5.8     59.164      7.6    288.0\n",
       "4 2010-01-05    4.3     27.738      6.3    293.0"
      ]
     },
     "execution_count": 8,
     "metadata": {},
     "output_type": "execute_result"
    }
   ],
   "source": [
    "Solar_wind[\"T(10^3 k)\"] = Solar_wind['T(k)']/1000\n",
    "# SWEPAM['Ind_DOY'] = range(1, len(SWEPAM) + 1)\n",
    "Solar_wind[\"Combined\"] = Solar_wind[\"Year\"]*1000 + Solar_wind[\"DOY\"] \n",
    "Solar_wind[\"DATE\"] = pd.to_datetime(Solar_wind[\"Combined\"], format = \"%Y%j\")\n",
    "Solar_wind[\"N(cm^3)\"] = Solar_wind['n(cm^-3)']\n",
    "Solar_wind= Solar_wind[['DATE','B(nT)','T(10^3 k)', 'N(cm^3)', 'V(Km/s)']]\n",
    "Solar_wind.head()"
   ]
  },
  {
   "cell_type": "code",
   "execution_count": 9,
   "id": "cfa4c187-8770-425f-941a-2fa6a0652db2",
   "metadata": {},
   "outputs": [],
   "source": [
    "Solar_wind_filtered = Solar_wind[~Solar_wind['DATE'].isin(combined_list)]"
   ]
  },
  {
   "cell_type": "code",
   "execution_count": 10,
   "id": "83b3e35c-f8eb-421c-8358-b69f11459308",
   "metadata": {},
   "outputs": [
    {
     "data": {
      "text/html": [
       "<div>\n",
       "<style scoped>\n",
       "    .dataframe tbody tr th:only-of-type {\n",
       "        vertical-align: middle;\n",
       "    }\n",
       "\n",
       "    .dataframe tbody tr th {\n",
       "        vertical-align: top;\n",
       "    }\n",
       "\n",
       "    .dataframe thead th {\n",
       "        text-align: right;\n",
       "    }\n",
       "</style>\n",
       "<table border=\"1\" class=\"dataframe\">\n",
       "  <thead>\n",
       "    <tr style=\"text-align: right;\">\n",
       "      <th></th>\n",
       "      <th>DATE</th>\n",
       "      <th>B(nT)</th>\n",
       "      <th>T(10^3 k)</th>\n",
       "      <th>N(cm^3)</th>\n",
       "      <th>V(Km/s)</th>\n",
       "    </tr>\n",
       "  </thead>\n",
       "  <tbody>\n",
       "    <tr>\n",
       "      <th>132</th>\n",
       "      <td>2010-05-13</td>\n",
       "      <td>3.5</td>\n",
       "      <td>85.935</td>\n",
       "      <td>4.0</td>\n",
       "      <td>420.0</td>\n",
       "    </tr>\n",
       "    <tr>\n",
       "      <th>133</th>\n",
       "      <td>2010-05-14</td>\n",
       "      <td>4.5</td>\n",
       "      <td>104.089</td>\n",
       "      <td>2.9</td>\n",
       "      <td>361.0</td>\n",
       "    </tr>\n",
       "    <tr>\n",
       "      <th>134</th>\n",
       "      <td>2010-05-15</td>\n",
       "      <td>4.1</td>\n",
       "      <td>35.633</td>\n",
       "      <td>2.0</td>\n",
       "      <td>364.0</td>\n",
       "    </tr>\n",
       "    <tr>\n",
       "      <th>135</th>\n",
       "      <td>2010-05-16</td>\n",
       "      <td>3.3</td>\n",
       "      <td>52.059</td>\n",
       "      <td>4.2</td>\n",
       "      <td>332.0</td>\n",
       "    </tr>\n",
       "    <tr>\n",
       "      <th>136</th>\n",
       "      <td>2010-05-17</td>\n",
       "      <td>4.7</td>\n",
       "      <td>87.494</td>\n",
       "      <td>8.7</td>\n",
       "      <td>357.0</td>\n",
       "    </tr>\n",
       "  </tbody>\n",
       "</table>\n",
       "</div>"
      ],
      "text/plain": [
       "          DATE  B(nT)  T(10^3 k)  N(cm^3)  V(Km/s)\n",
       "132 2010-05-13    3.5     85.935      4.0    420.0\n",
       "133 2010-05-14    4.5    104.089      2.9    361.0\n",
       "134 2010-05-15    4.1     35.633      2.0    364.0\n",
       "135 2010-05-16    3.3     52.059      4.2    332.0\n",
       "136 2010-05-17    4.7     87.494      8.7    357.0"
      ]
     },
     "execution_count": 10,
     "metadata": {},
     "output_type": "execute_result"
    }
   ],
   "source": [
    "solar_wind_filtered_mask = (Solar_wind_filtered[\"DATE\"] >= \"2010-05-13\") & (Solar_wind_filtered[\"DATE\"] <= \"2023-12-31\") \n",
    "Solar_wind_filtered = Solar_wind_filtered.loc[solar_wind_filtered_mask]\n",
    "Solar_wind_filtered.head()"
   ]
  },
  {
   "cell_type": "code",
   "execution_count": 11,
   "id": "e88c965d-d246-4a71-aaa8-04eb512e0c69",
   "metadata": {},
   "outputs": [],
   "source": [
    "Omni_velocity = Solar_wind_filtered.drop(columns=(['B(nT)','T(10^3 k)', 'N(cm^3)']), axis=0)"
   ]
  },
  {
   "cell_type": "code",
   "execution_count": 12,
   "id": "b29bf0f9-996f-426f-8ec0-dcdbb2681177",
   "metadata": {},
   "outputs": [],
   "source": [
    "Omni_velocity.dropna(inplace=True)"
   ]
  },
  {
   "cell_type": "code",
   "execution_count": 13,
   "id": "0c34d418-82c6-4e9f-bbb2-ce08d18ef7d3",
   "metadata": {},
   "outputs": [],
   "source": [
    "Omni_velocity.to_csv(\"Omni_velocity.csv\", index=False, columns=None)"
   ]
  },
  {
   "cell_type": "markdown",
   "id": "b1a40021-8818-40f6-afd5-9a1c0454fdb5",
   "metadata": {},
   "source": [
    "### Loading Hourly OMNIWEB SW DATA \n",
    "\n",
    "`TEXT File`"
   ]
  },
  {
   "cell_type": "code",
   "execution_count": 14,
   "id": "582a6ee3-3113-41e9-9c56-e35c272a428b",
   "metadata": {},
   "outputs": [],
   "source": [
    "omni = ascii.read(\"Hourly_data_OMNIWEB_data.txt\",\n",
    "                      names =[\"Year\",\"DOY\", \"HR\", \"V(Km/s)\"] )\n",
    " "
   ]
  },
  {
   "cell_type": "code",
   "execution_count": 15,
   "id": "4a548dff-b2f4-4bb5-84b3-2ec86bd34bbc",
   "metadata": {},
   "outputs": [],
   "source": [
    "ascii.write(omni, 'Hourly_data_OMNIWEB_data.csv', format='csv', overwrite=True)  "
   ]
  },
  {
   "cell_type": "code",
   "execution_count": 16,
   "id": "f3fbf21f-bffd-45e1-a114-b5fefae80e0d",
   "metadata": {},
   "outputs": [
    {
     "data": {
      "text/html": [
       "<div>\n",
       "<style scoped>\n",
       "    .dataframe tbody tr th:only-of-type {\n",
       "        vertical-align: middle;\n",
       "    }\n",
       "\n",
       "    .dataframe tbody tr th {\n",
       "        vertical-align: top;\n",
       "    }\n",
       "\n",
       "    .dataframe thead th {\n",
       "        text-align: right;\n",
       "    }\n",
       "</style>\n",
       "<table border=\"1\" class=\"dataframe\">\n",
       "  <thead>\n",
       "    <tr style=\"text-align: right;\">\n",
       "      <th></th>\n",
       "      <th>Year</th>\n",
       "      <th>DOY</th>\n",
       "      <th>HR</th>\n",
       "      <th>V(Km/s)</th>\n",
       "      <th>Combined</th>\n",
       "      <th>DATE</th>\n",
       "    </tr>\n",
       "  </thead>\n",
       "  <tbody>\n",
       "    <tr>\n",
       "      <th>0</th>\n",
       "      <td>2010</td>\n",
       "      <td>1</td>\n",
       "      <td>0</td>\n",
       "      <td>283.0</td>\n",
       "      <td>2010001</td>\n",
       "      <td>2010-01-01 00:00:00</td>\n",
       "    </tr>\n",
       "    <tr>\n",
       "      <th>1</th>\n",
       "      <td>2010</td>\n",
       "      <td>1</td>\n",
       "      <td>1</td>\n",
       "      <td>280.0</td>\n",
       "      <td>2010001</td>\n",
       "      <td>2010-01-01 01:00:00</td>\n",
       "    </tr>\n",
       "    <tr>\n",
       "      <th>2</th>\n",
       "      <td>2010</td>\n",
       "      <td>1</td>\n",
       "      <td>2</td>\n",
       "      <td>280.0</td>\n",
       "      <td>2010001</td>\n",
       "      <td>2010-01-01 02:00:00</td>\n",
       "    </tr>\n",
       "    <tr>\n",
       "      <th>3</th>\n",
       "      <td>2010</td>\n",
       "      <td>1</td>\n",
       "      <td>3</td>\n",
       "      <td>281.0</td>\n",
       "      <td>2010001</td>\n",
       "      <td>2010-01-01 03:00:00</td>\n",
       "    </tr>\n",
       "    <tr>\n",
       "      <th>4</th>\n",
       "      <td>2010</td>\n",
       "      <td>1</td>\n",
       "      <td>4</td>\n",
       "      <td>282.0</td>\n",
       "      <td>2010001</td>\n",
       "      <td>2010-01-01 04:00:00</td>\n",
       "    </tr>\n",
       "  </tbody>\n",
       "</table>\n",
       "</div>"
      ],
      "text/plain": [
       "   Year  DOY  HR  V(Km/s)  Combined                DATE\n",
       "0  2010    1   0    283.0   2010001 2010-01-01 00:00:00\n",
       "1  2010    1   1    280.0   2010001 2010-01-01 01:00:00\n",
       "2  2010    1   2    280.0   2010001 2010-01-01 02:00:00\n",
       "3  2010    1   3    281.0   2010001 2010-01-01 03:00:00\n",
       "4  2010    1   4    282.0   2010001 2010-01-01 04:00:00"
      ]
     },
     "execution_count": 16,
     "metadata": {},
     "output_type": "execute_result"
    }
   ],
   "source": [
    "hourly_data = pd.read_csv('Hourly_data_OMNIWEB_data.csv')\n",
    "hourly_data[\"Combined\"] = hourly_data[\"Year\"]*1000 + hourly_data[\"DOY\"] \n",
    "hourly_data[\"DATE\"] = pd.to_datetime(hourly_data[\"Combined\"], format = \"%Y%j\")\n",
    "# Add Hour to datetime\n",
    "hourly_data[\"DATE\"] += pd.to_timedelta(hourly_data['HR'], unit='h')\n",
    "hourly_data.head()"
   ]
  },
  {
   "cell_type": "code",
   "execution_count": 17,
   "id": "94e080be-9ff7-4012-92d4-4c6335399ee5",
   "metadata": {},
   "outputs": [],
   "source": [
    "hourly_data= hourly_data[['DATE','V(Km/s)']]\n",
    "hourly_data.set_index('DATE', inplace=True)"
   ]
  },
  {
   "cell_type": "markdown",
   "id": "f0173f40-9899-4164-93cf-9255c693f3a5",
   "metadata": {},
   "source": [
    "### REMOVED MISSING DATAS/ NAN VALUE (9999)"
   ]
  },
  {
   "cell_type": "code",
   "execution_count": 18,
   "id": "88de7dde-9af5-460d-918a-501356f257a3",
   "metadata": {},
   "outputs": [
    {
     "data": {
      "text/plain": [
       "V(Km/s)    456\n",
       "dtype: int64"
      ]
     },
     "execution_count": 18,
     "metadata": {},
     "output_type": "execute_result"
    }
   ],
   "source": [
    "(hourly_data== 9999).sum()"
   ]
  },
  {
   "cell_type": "code",
   "execution_count": 19,
   "id": "2030ed05-7e57-4e46-91b8-87d32fc6bd24",
   "metadata": {},
   "outputs": [],
   "source": [
    "hourly_data = hourly_data[hourly_data['V(Km/s)'] != 9999]"
   ]
  },
  {
   "cell_type": "code",
   "execution_count": 20,
   "id": "37aaeda6-db2f-4e27-be1e-9438070265ad",
   "metadata": {},
   "outputs": [
    {
     "data": {
      "text/plain": [
       "V(Km/s)    0\n",
       "dtype: int64"
      ]
     },
     "execution_count": 20,
     "metadata": {},
     "output_type": "execute_result"
    }
   ],
   "source": [
    "(hourly_data== 9999).sum()"
   ]
  },
  {
   "cell_type": "markdown",
   "id": "962d97c2-d056-4ea1-b974-bcea88ed54f0",
   "metadata": {},
   "source": [
    "### oBTAINED THE STANDARD DEVIATION BEFORE REMOVING ICME EVENTS"
   ]
  },
  {
   "cell_type": "code",
   "execution_count": 21,
   "id": "a4895f4a-3002-4209-87ad-15d2c5d6cf7c",
   "metadata": {},
   "outputs": [],
   "source": [
    "daily_deviation = hourly_data['V(Km/s)'].resample('D').std().reset_index()"
   ]
  },
  {
   "cell_type": "code",
   "execution_count": 22,
   "id": "cdd1871d-13f7-41dc-ab56-0f32b1915a97",
   "metadata": {},
   "outputs": [],
   "source": [
    "daily_deviation.to_csv(\"ICME_included_standard_deviation_Velocity.csv\", index=False, columns=None)"
   ]
  },
  {
   "cell_type": "markdown",
   "id": "15b043b9-59a6-4e70-8918-c94fd5817900",
   "metadata": {},
   "source": [
    "### removed  icme events and save the standard deviation"
   ]
  },
  {
   "cell_type": "code",
   "execution_count": 23,
   "id": "198dbb34-8ca8-431e-8dbb-1e93cc581884",
   "metadata": {},
   "outputs": [],
   "source": [
    "daily_deviation_filtered = daily_deviation[~daily_deviation[\"DATE\"].isin(combined_list)]"
   ]
  },
  {
   "cell_type": "code",
   "execution_count": 24,
   "id": "0ec02769-a364-4994-a59b-8680280e99b1",
   "metadata": {},
   "outputs": [],
   "source": [
    "daily_deviation_filtered_mask = (daily_deviation_filtered[\"DATE\"] >= \"2010-05-13\") & (daily_deviation_filtered[\"DATE\"] <= \"2023-12-31\") \n",
    "daily_deviation_filtered = daily_deviation_filtered.loc[daily_deviation_filtered_mask]\n"
   ]
  },
  {
   "cell_type": "code",
   "execution_count": 25,
   "id": "2b2452a9-62b0-4213-a83b-177e7ad29bbf",
   "metadata": {},
   "outputs": [],
   "source": [
    "daily_deviation_filtered.to_csv(\"standard_deviation_Velocity.csv\", index=False, columns=None)"
   ]
  },
  {
   "cell_type": "markdown",
   "id": "04b06ed1-1636-4234-9fcd-3b174910ee61",
   "metadata": {},
   "source": [
    "### LOAD THE ALREADY FILTERED sOLAR WIND DATA"
   ]
  },
  {
   "cell_type": "code",
   "execution_count": 26,
   "id": "974b76a5-d73d-4ed9-b242-7628f6ee5d5f",
   "metadata": {},
   "outputs": [
    {
     "data": {
      "text/html": [
       "<div>\n",
       "<style scoped>\n",
       "    .dataframe tbody tr th:only-of-type {\n",
       "        vertical-align: middle;\n",
       "    }\n",
       "\n",
       "    .dataframe tbody tr th {\n",
       "        vertical-align: top;\n",
       "    }\n",
       "\n",
       "    .dataframe thead th {\n",
       "        text-align: right;\n",
       "    }\n",
       "</style>\n",
       "<table border=\"1\" class=\"dataframe\">\n",
       "  <thead>\n",
       "    <tr style=\"text-align: right;\">\n",
       "      <th></th>\n",
       "      <th>DATE</th>\n",
       "      <th>V(Km/s)</th>\n",
       "    </tr>\n",
       "  </thead>\n",
       "  <tbody>\n",
       "    <tr>\n",
       "      <th>0</th>\n",
       "      <td>2010-05-13</td>\n",
       "      <td>420.0</td>\n",
       "    </tr>\n",
       "    <tr>\n",
       "      <th>1</th>\n",
       "      <td>2010-05-14</td>\n",
       "      <td>361.0</td>\n",
       "    </tr>\n",
       "    <tr>\n",
       "      <th>2</th>\n",
       "      <td>2010-05-15</td>\n",
       "      <td>364.0</td>\n",
       "    </tr>\n",
       "    <tr>\n",
       "      <th>3</th>\n",
       "      <td>2010-05-16</td>\n",
       "      <td>332.0</td>\n",
       "    </tr>\n",
       "    <tr>\n",
       "      <th>4</th>\n",
       "      <td>2010-05-17</td>\n",
       "      <td>357.0</td>\n",
       "    </tr>\n",
       "    <tr>\n",
       "      <th>5</th>\n",
       "      <td>2010-05-18</td>\n",
       "      <td>355.0</td>\n",
       "    </tr>\n",
       "    <tr>\n",
       "      <th>6</th>\n",
       "      <td>2010-05-19</td>\n",
       "      <td>410.0</td>\n",
       "    </tr>\n",
       "    <tr>\n",
       "      <th>7</th>\n",
       "      <td>2010-05-20</td>\n",
       "      <td>472.0</td>\n",
       "    </tr>\n",
       "    <tr>\n",
       "      <th>8</th>\n",
       "      <td>2010-05-21</td>\n",
       "      <td>443.0</td>\n",
       "    </tr>\n",
       "    <tr>\n",
       "      <th>9</th>\n",
       "      <td>2010-05-22</td>\n",
       "      <td>391.0</td>\n",
       "    </tr>\n",
       "  </tbody>\n",
       "</table>\n",
       "</div>"
      ],
      "text/plain": [
       "         DATE  V(Km/s)\n",
       "0  2010-05-13    420.0\n",
       "1  2010-05-14    361.0\n",
       "2  2010-05-15    364.0\n",
       "3  2010-05-16    332.0\n",
       "4  2010-05-17    357.0\n",
       "5  2010-05-18    355.0\n",
       "6  2010-05-19    410.0\n",
       "7  2010-05-20    472.0\n",
       "8  2010-05-21    443.0\n",
       "9  2010-05-22    391.0"
      ]
     },
     "execution_count": 26,
     "metadata": {},
     "output_type": "execute_result"
    }
   ],
   "source": [
    "Solar_wind_daily = pd.read_csv(\"Omni_velocity.csv\")\n",
    "Solar_wind_daily.head(10)"
   ]
  },
  {
   "cell_type": "code",
   "execution_count": 27,
   "id": "50677e25-55b0-4ff4-b2e8-48033be661ea",
   "metadata": {},
   "outputs": [
    {
     "data": {
      "text/plain": [
       "259.0"
      ]
     },
     "execution_count": 27,
     "metadata": {},
     "output_type": "execute_result"
    }
   ],
   "source": [
    "np.min(Solar_wind_daily[\"V(Km/s)\"])"
   ]
  },
  {
   "cell_type": "code",
   "execution_count": 28,
   "id": "b763f182-f97f-4fe9-bea2-72a35a640a37",
   "metadata": {},
   "outputs": [
    {
     "name": "stdout",
     "output_type": "stream",
     "text": [
      "776\n"
     ]
    }
   ],
   "source": [
    "bool_series = Solar_wind_daily[\"V(Km/s)\"] >= 500\n",
    "count_true = bool_series.value_counts().get(True, 0)\n",
    "\n",
    "print(count_true)  \n",
    "# (Solar_wind_daily[\"V(Km/s)\"] >= 500).sum()"
   ]
  },
  {
   "cell_type": "code",
   "execution_count": 29,
   "id": "1b664bb5-eb21-4957-9e02-1fe898f516aa",
   "metadata": {},
   "outputs": [
    {
     "data": {
      "text/plain": [
       "753.0"
      ]
     },
     "execution_count": 29,
     "metadata": {},
     "output_type": "execute_result"
    }
   ],
   "source": [
    "np.max(Solar_wind_daily[\"V(Km/s)\"])"
   ]
  },
  {
   "cell_type": "code",
   "execution_count": 30,
   "id": "c8550f7d-e1be-426f-8df9-97fafc9e671c",
   "metadata": {},
   "outputs": [
    {
     "data": {
      "text/plain": [
       "415.1"
      ]
     },
     "execution_count": 30,
     "metadata": {},
     "output_type": "execute_result"
    }
   ],
   "source": [
    "np.mean(Solar_wind_daily[\"V(Km/s)\"])"
   ]
  },
  {
   "cell_type": "code",
   "execution_count": 31,
   "id": "bd88b0f0-6967-47e3-b969-8ae03e43ceac",
   "metadata": {},
   "outputs": [
    {
     "data": {
      "text/plain": [
       "364"
      ]
     },
     "execution_count": 31,
     "metadata": {},
     "output_type": "execute_result"
    }
   ],
   "source": [
    "# np.min(Solar_wind_daily[\"V(Km/s)\"])\n",
    "np.bincount(Solar_wind_daily[\"V(Km/s)\"]).argmax()\n",
    "# .argmax()"
   ]
  },
  {
   "cell_type": "code",
   "execution_count": 32,
   "id": "f9c24cd6-a8db-4694-83d7-98d25225da1c",
   "metadata": {},
   "outputs": [
    {
     "data": {
      "text/plain": [
       "88.10379121585824"
      ]
     },
     "execution_count": 32,
     "metadata": {},
     "output_type": "execute_result"
    }
   ],
   "source": [
    "np.std(Solar_wind_daily[\"V(Km/s)\"])"
   ]
  },
  {
   "cell_type": "code",
   "execution_count": 33,
   "id": "9430403d-c17d-4294-95b1-e511959274d7",
   "metadata": {},
   "outputs": [
    {
     "data": {
      "text/plain": [
       "67.15653356152326"
      ]
     },
     "execution_count": 33,
     "metadata": {},
     "output_type": "execute_result"
    }
   ],
   "source": [
    "np.sqrt(len(Solar_wind_daily))"
   ]
  },
  {
   "cell_type": "code",
   "execution_count": 34,
   "id": "0fd93350-1144-45d2-980a-a4bb5a101d4a",
   "metadata": {},
   "outputs": [
    {
     "data": {
      "text/plain": [
       "67.15653356152326"
      ]
     },
     "execution_count": 34,
     "metadata": {},
     "output_type": "execute_result"
    }
   ],
   "source": [
    "np.sqrt(4510)"
   ]
  },
  {
   "cell_type": "code",
   "execution_count": 35,
   "id": "8d534e0b-7b5c-4616-b46b-27c744178942",
   "metadata": {},
   "outputs": [],
   "source": [
    "### We segmented the dataset into 67 bins, which depicts the square root of the total number of the dataset. and we observed that the distribution was skewed to the left"
   ]
  },
  {
   "cell_type": "code",
   "execution_count": 36,
   "id": "6a8b5e3f-cd38-4e42-9516-f6a48e07acdd",
   "metadata": {},
   "outputs": [
    {
     "data": {
      "image/png": "[encoded data removed]",
      "text/plain": [
       "<Figure size 1800x600 with 2 Axes>"
      ]
     },
     "metadata": {},
     "output_type": "display_data"
    }
   ],
   "source": [
    "plt.figure(figsize=(18,6))\n",
    "plt.subplot(1,2,1)\n",
    "solar_wind_histogram=plt.hist(Solar_wind_daily[\"V(Km/s)\"], bins= 67, color='brown')#int(np.sqrt(len(Solar_wind_daily))),color='brown')\n",
    "plt.ylabel('Counts',fontsize=20)\n",
    "plt.xlabel('Solar Wind daily average speed (km/s)', fontsize=20)\n",
    "plt.xticks(fontsize=20)\n",
    "plt.yticks(fontsize=20)\n",
    "plt.grid(\"on\")\n",
    "plt.text(-0.1, 0.99, '(a)', transform=plt.gca().transAxes, fontsize=20, fontweight='bold', va='top', ha='left')\n",
    "# plt.title('Distribution of Solar Wind speed over all years',fontsize=20)\n",
    "\n",
    "\n",
    "plt.subplot(1,2,2)\n",
    "solar_standard_devaition_histogram=plt.hist(daily_deviation_filtered[\"V(Km/s)\"],bins= 67,color='brown') #,int(np.sqrt(len(Solar_wind_daily))), color='brown')\n",
    "plt.ylabel('Counts',fontsize=20)\n",
    "plt.xlabel('Solar Wind daily speed standard deviation (km/s)', fontsize=20)\n",
    "plt.text(-0.1, 0.99, '(b)', transform=plt.gca().transAxes, fontsize=20, fontweight='bold', va='top', ha='left')\n",
    "plt.xticks(fontsize=20)\n",
    "plt.yticks(fontsize=20)\n",
    "# plt.title('Distribution of Solar Wind speed $\\sigma$ over all years',fontsize=20)\n",
    "plt.tight_layout()\n",
    "plt.grid(\"on\")\n",
    "plt.savefig(\"Solar_wind_hist_plot.png\")\n"
   ]
  },
  {
   "cell_type": "code",
   "execution_count": null,
   "id": "4daffe2a-5369-4594-a5ec-cbfac9097b7e",
   "metadata": {},
   "outputs": [],
   "source": []
  }
 ],
 "metadata": {
  "kernelspec": {
   "display_name": "Python 3 (ipykernel)",
   "language": "python",
   "name": "python3"
  },
  "language_info": {
   "codemirror_mode": {
    "name": "ipython",
    "version": 3
   },
   "file_extension": ".py",
   "mimetype": "text/x-python",
   "name": "python",
   "nbconvert_exporter": "python",
   "pygments_lexer": "ipython3",
   "version": "3.9.19"
  }
 },
 "nbformat": 4,
 "nbformat_minor": 5
}
