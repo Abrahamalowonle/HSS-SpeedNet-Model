{
 "cells": [
  {
   "cell_type": "markdown",
   "id": "04c74677-9cbb-4c21-830a-601fd20d234c",
   "metadata": {},
   "source": [
    "### Necessary Package"
   ]
  },
  {
   "cell_type": "code",
   "execution_count": 1,
   "id": "ded34293-fe04-4417-bc8e-90d3ed75f113",
   "metadata": {},
   "outputs": [],
   "source": [
    "import os\n",
    "import sys\n",
    "os.environ['TF_GPU_ALLOCATOR'] = 'cuda_malloc_async'\n",
    "\n",
    "# Get the current working directory\n",
    "current_folder = os.getcwd()\n",
    "\n",
    "# # Add a relative path (e.g., parent folder or a specific subfolder)\n",
    "SpeedNet_model_folder = os.path.abspath(os.path.join(current_folder, \"../SpeedNet_model\"))\n",
    "sys.path.append(SpeedNet_model_folder)\n",
    "\n",
    "\n",
    "# Now import the module\n",
    "import SpeedNet_model"
   ]
  },
  {
   "cell_type": "markdown",
   "id": "1b75b72b-af31-4b51-8a89-c9ad2f99502d",
   "metadata": {},
   "source": [
    "## ACROSS SC PHASE"
   ]
  },
  {
   "cell_type": "markdown",
   "id": "8b6a2a17-4c44-4687-94af-16ba191afc10",
   "metadata": {},
   "source": [
    "#### ASCENDING PHASE"
   ]
  },
  {
   "cell_type": "code",
   "execution_count": 2,
   "id": "2dda49af-828c-4a57-9f95-1a020895d690",
   "metadata": {},
   "outputs": [],
   "source": [
    "path = \"/home/joseph/DL/DATASET\"\n",
    "train_start_date = \"2010-05-13\"\n",
    "train_end_date = \"2011-07-06\"\n",
    "test_start_date = \"2011-07-07\"\n",
    "test_end_date = \"2011-12-31\"\n",
    "img_train_path = \"/home/joseph/DL/DATASET/ASCENDING_PHASE_COLORED/Train\"\n",
    "img_test_path = \"/home/joseph/DL/DATASET/ASCENDING_PHASE_COLORED/Test\"\n",
    "model_path = \"/SpeedNet_EUV/ASCENDING\"\n",
    "\n",
    "Ascending_Phase_training =  SpeedNet_model.SpeedNet_model_training(path, img_train_path, img_test_path,\n",
    "                                                                   train_start_date, train_end_date, \n",
    "                                                                   test_start_date, test_end_date, model_path)\n",
    "\n",
    "Ascending_Phase_testing = SpeedNet_model.SpeedNet_model_testing(path, img_train_path, img_test_path,\n",
    "                                                                   train_start_date, train_end_date, \n",
    "                                                                   test_start_date, test_end_date, model_path)\n",
    "                                                                                           "
   ]
  },
  {
   "cell_type": "markdown",
   "id": "7c00ff70-cd82-43f8-a9c2-73a201bee4b1",
   "metadata": {},
   "source": [
    "#### MAXIMUM PHASE"
   ]
  },
  {
   "cell_type": "code",
   "execution_count": 3,
   "id": "4ce2778b-ff72-4ef8-8687-4a817befc2c5",
   "metadata": {},
   "outputs": [],
   "source": [
    "path = \"/home/joseph/DL/DATASET\"\n",
    "train_start_date = \"2012-01-01\"\n",
    "train_end_date = \"2014-02-01\"\n",
    "test_start_date = \"2014-02-02\"\n",
    "test_end_date = \"2014-12-31\"\n",
    "img_train_path = \"/home/joseph/DL/DATASET/MAXIMUM_PHASE_COLORED/Train\"\n",
    "img_test_path = \"/home/joseph/DL/DATASET/MAXIMUM_PHASE_COLORED/Test\"\n",
    "model_path = \"/SpeedNet_EUV/MAXIMUM\"\n",
    "\n",
    "Maximum_Phase_training =  SpeedNet_model.SpeedNet_model_training(path, img_train_path, img_test_path,\n",
    "                                                                 train_start_date, train_end_date, \n",
    "                                                                 test_start_date, test_end_date, model_path)\n",
    "\n",
    "Maximum_Phase_testing = SpeedNet_model.SpeedNet_model_testing(path, img_train_path, img_test_path,\n",
    "                                                                 train_start_date, train_end_date, \n",
    "                                                                 test_start_date, test_end_date, model_path)"
   ]
  },
  {
   "cell_type": "markdown",
   "id": "3e57867e-b47d-48fe-bf02-8c5b73976f80",
   "metadata": {},
   "source": [
    "#### DECLINING PHASE"
   ]
  },
  {
   "cell_type": "code",
   "execution_count": 4,
   "id": "5ec258f4-2e5d-4968-8b17-9126019a43d7",
   "metadata": {},
   "outputs": [],
   "source": [
    "path = \"/home/joseph/DL/DATASET\"\n",
    "train_start_date = \"2015-01-01\"\n",
    "train_end_date = \"2017-12-31\"\n",
    "test_start_date = \"2018-01-01\"\n",
    "test_end_date = \"2018-12-31\"\n",
    "img_train_path = \"/home/joseph/DL/DATASET/DECLINING_PHASE_COLORED/Train\"\n",
    "img_test_path = \"/home/joseph/DL/DATASET/DECLINING_PHASE_COLORED/Test\"\n",
    "model_path = \"/SpeedNet_EUV/DECLINING\"\n",
    "\n",
    "Declining_Phase_training =  SpeedNet_model.SpeedNet_model_training(path, img_train_path, img_test_path,\n",
    "                                                                   train_start_date, train_end_date, \n",
    "                                                                   test_start_date, test_end_date, model_path)\n",
    "\n",
    "Declining_Phase_testing = SpeedNet_model.SpeedNet_model_testing(path, img_train_path, img_test_path,\n",
    "                                                                   train_start_date, train_end_date, \n",
    "                                                                   test_start_date, test_end_date, model_path)"
   ]
  },
  {
   "cell_type": "markdown",
   "id": "e7da18e6-0d8c-4e15-90c8-ddf74872838a",
   "metadata": {},
   "source": [
    "#### MINIMUM PHASE"
   ]
  },
  {
   "cell_type": "code",
   "execution_count": 5,
   "id": "e5374d6c-d720-4fb1-a0ea-3ed1ee924342",
   "metadata": {},
   "outputs": [],
   "source": [
    "path = \"/home/joseph/DL/DATASET\"\n",
    "train_start_date = \"2019-01-01\"\n",
    "train_end_date = \"2020-05-26\"\n",
    "test_start_date = \"2020-05-27\"\n",
    "test_end_date = \"2020-12-31\"\n",
    "img_train_path = \"/home/joseph/DL/DATASET/MINIMUM_PHASE_COLORED/Train\"\n",
    "img_test_path = \"/home/joseph/DL/DATASET/MINIMUM_PHASE_COLORED/Test\"\n",
    "model_path = \"/SpeedNet_EUV/MINIMUM\"\n",
    "\n",
    "Minimum_Phase_training =  SpeedNet_model.SpeedNet_model_training(path, img_train_path, img_test_path,\n",
    "                                                                 train_start_date, train_end_date, \n",
    "                                                                 test_start_date, test_end_date, model_path)\n",
    "\n",
    "Minimum_Phase_testing = SpeedNet_model.SpeedNet_model_testing(path, img_train_path, img_test_path,\n",
    "                                                              train_start_date, train_end_date, \n",
    "                                                              test_start_date, test_end_date, model_path)"
   ]
  },
  {
   "cell_type": "markdown",
   "id": "4a7e17a1-3537-44f8-8669-c8e3a7703772",
   "metadata": {},
   "source": [
    "## FULL SC PERIOD"
   ]
  },
  {
   "cell_type": "code",
   "execution_count": 6,
   "id": "f96c2ab1-7c04-45f9-8f8b-6a6547dde384",
   "metadata": {},
   "outputs": [],
   "source": [
    "path = \"/home/joseph/DL/DATASET\"\n",
    "train_start_date = \"2010-05-13\"\n",
    "train_end_date = \"2018-12-31\"\n",
    "test_start_date = \"2019-01-01\"\n",
    "test_end_date = \"2019-12-31\"\n",
    "img_train_path = \"/home/joseph/DL/DATASET/FULL_CYCLE_CHANNEL/Train\"\n",
    "img_test_path = \"/home/joseph/DL/DATASET/FULL_CYCLE_CHANNEL/Test\"\n",
    "model_path = \"/SpeedNet_EUV/FULL_CYCLE\"\n",
    "\n",
    "# Training and Validation\n",
    "Full_SC_training =  SpeedNet_model.SpeedNet_model_training(path, img_train_path, img_test_path,\n",
    "                                                           train_start_date, train_end_date, \n",
    "                                                           test_start_date, test_end_date, model_path)\n",
    "\n",
    "# Testing\n",
    "Full_SC_testing = SpeedNet_model.SpeedNet_model_testing(path, img_train_path, img_test_path, \n",
    "                                                        train_start_date, train_end_date,\n",
    "                                                        test_start_date, test_end_date, model_path)"
   ]
  },
  {
   "cell_type": "code",
   "execution_count": null,
   "id": "a71af34c",
   "metadata": {},
   "outputs": [],
   "source": []
  }
 ],
 "metadata": {
  "kernelspec": {
   "display_name": "joseph_tf",
   "language": "python",
   "name": "python3"
  },
  "language_info": {
   "codemirror_mode": {
    "name": "ipython",
    "version": 3
   },
   "file_extension": ".py",
   "mimetype": "text/x-python",
   "name": "python",
   "nbconvert_exporter": "python",
   "pygments_lexer": "ipython3",
   "version": "3.9.18"
  }
 },
 "nbformat": 4,
 "nbformat_minor": 5
}
